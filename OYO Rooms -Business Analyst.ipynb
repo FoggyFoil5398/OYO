{
 "cells": [
  {
   "cell_type": "markdown",
   "metadata": {},
   "source": [
    "# OYO - Business Analyst "
   ]
  },
  {
   "cell_type": "markdown",
   "metadata": {},
   "source": [
    "Q."
   ]
  },
  {
   "cell_type": "markdown",
   "metadata": {},
   "source": [
    "\n",
    "It is a hypothetical case: Let's assume that we currently sell a home (2-BHK) to a guest for at least 7 Days for price X. We want to start selling for shorter stays, i.e. anything between 3 nights to 7 nights. How should we price for the other configurations - i.e. 3, 4, 5, or 6 nights? Should this be the same for any combination of 3 nights - weekdays or weekends, February or December, etc.?"
   ]
  },
  {
   "cell_type": "markdown",
   "metadata": {},
   "source": [
    "A."
   ]
  },
  {
   "cell_type": "markdown",
   "metadata": {},
   "source": [
    "There are two models we can adopt to price our hotel rooms"
   ]
  },
  {
   "cell_type": "markdown",
   "metadata": {},
   "source": [
    "1. Static Pricing\n",
    "2. Dynamic Pricing"
   ]
  },
  {
   "cell_type": "markdown",
   "metadata": {},
   "source": [
    "1. Static pricing would mean, charging a specific amount everyday for a specific hotel room irrespective of conditions like demand,situations where customers might be willing to pay more, situations where customer may not buy the service thinking it's overpriced etc.\n",
    "2. Dynamic pricing on the other hand keeps in mind the above mentioned situations and tries to find the optimum price for maximum revenue generation."
   ]
  },
  {
   "cell_type": "markdown",
   "metadata": {
    "collapsed": true
   },
   "source": [
    "As an example let's say we have a customer who wants to have a room for 4 nights. He chooses the days to be from thursday to next monday. Now if we do not consider the fact that we can and should increase the price with demand, we can price the room statically with a base price of 2000 rupees per night."
   ]
  },
  {
   "cell_type": "markdown",
   "metadata": {},
   "source": [
    "If this is the case then :"
   ]
  },
  {
   "cell_type": "code",
   "execution_count": 1,
   "metadata": {},
   "outputs": [
    {
     "name": "stdout",
     "output_type": "stream",
     "text": [
      "Earnings for 4 nights : 8000\n"
     ]
    }
   ],
   "source": [
    "nights = 4\n",
    "price_per_night = 2000\n",
    "earnings = nights * price_per_night\n",
    "print(\"Earnings for 4 nights : \"+str(earnings))"
   ]
  },
  {
   "cell_type": "markdown",
   "metadata": {},
   "source": [
    "But if we price it dynamically considering the fact based on historical data (hypothetically since I have no data available to me right now) the demand for the room rises on weekends but is lower on weekdays, let's price the room for 1800 for the first night, 1900 for the second night, 2200 on the third night and 2300 on the fourth night."
   ]
  },
  {
   "cell_type": "code",
   "execution_count": 2,
   "metadata": {},
   "outputs": [
    {
     "name": "stdout",
     "output_type": "stream",
     "text": [
      "Earnings for 4 nights : 8200\n"
     ]
    }
   ],
   "source": [
    "print(\"Earnings for 4 nights : \"+str(1800+1900+2200+2300))"
   ]
  },
  {
   "cell_type": "markdown",
   "metadata": {},
   "source": [
    "There is an obvious increase of 200 rupees in the earnings which will contribute towards more revenue"
   ]
  },
  {
   "cell_type": "markdown",
   "metadata": {},
   "source": [
    "#### As an answer, if we are pricing the room for 3 or 4 nights having no weekends involved in them (and believing through past data that weekends mean more demand for the room) we should price the rooms lower in order to attract more customers and generate revenue."
   ]
  },
  {
   "cell_type": "markdown",
   "metadata": {},
   "source": [
    "#### If we are pricing our rooms for 3 to 6 nights involving weekends, we should charge more depending upon insights from historical data since demand will be more (hypothetically). Also anything more than 4 nights guarantees weekends to be involved in the booking so pricing has to be set accordingly."
   ]
  },
  {
   "cell_type": "markdown",
   "metadata": {},
   "source": [
    "#### Pricing a room higher for the weekends and lower for the weekdays would mean two things, more sales in the weekdays and more earnings in the weekends corresponding to more overall profit."
   ]
  },
  {
   "cell_type": "markdown",
   "metadata": {},
   "source": [
    "#### The same principle can be applied to seasons where there is higher expected demand like in summer vacations of children in the month of May/June or in December/January where destinations like mountain areas or sea coasts are sure to get high number of travellers creating more demand. This will however be based more upon historical data and not just intuition to generate more revenue."
   ]
  },
  {
   "cell_type": "markdown",
   "metadata": {},
   "source": [
    "Trends in this case will refer to high or low demands and seasonality will provide information about peak seasons."
   ]
  },
  {
   "cell_type": "markdown",
   "metadata": {},
   "source": [
    "## Dynamic pricing for multiple days"
   ]
  },
  {
   "cell_type": "markdown",
   "metadata": {},
   "source": [
    "Hotels calculate the price for a single night dynamically. In order to determine the rate for multiple days, they add the prices for each day calculated dynamically as selected by the user, and show to them the average of the price for all the days as a price for a single day. This method is adopted by a huge number of hotel chains around the world."
   ]
  },
  {
   "cell_type": "markdown",
   "metadata": {},
   "source": [
    "One of the methods I have learnt dealing with dynamic pricing is optimizing an objective function bound to some constraints."
   ]
  },
  {
   "cell_type": "markdown",
   "metadata": {},
   "source": [
    "The objective function we can define as :"
   ]
  },
  {
   "cell_type": "markdown",
   "metadata": {},
   "source": [
    "### Σ price*demand"
   ]
  },
  {
   "cell_type": "markdown",
   "metadata": {},
   "source": [
    "The demand can be calculated as a function of forecasted demand based on previous data varying inversely on basis of increasing price since that is a general fact, as prices increase, demand decreases. "
   ]
  },
  {
   "cell_type": "markdown",
   "metadata": {},
   "source": [
    "The summation function can be optimized over a period of time to predict prices over given days in the time period."
   ]
  },
  {
   "cell_type": "markdown",
   "metadata": {},
   "source": [
    "As mentioned above, for multiple days, prices caluclated for each day can be added upon and shown to the user with per day price being average of total price divided by number of days."
   ]
  }
 ],
 "metadata": {
  "kernelspec": {
   "display_name": "Python 3",
   "language": "python",
   "name": "python3"
  },
  "language_info": {
   "codemirror_mode": {
    "name": "ipython",
    "version": 3
   },
   "file_extension": ".py",
   "mimetype": "text/x-python",
   "name": "python",
   "nbconvert_exporter": "python",
   "pygments_lexer": "ipython3",
   "version": "3.6.3"
  }
 },
 "nbformat": 4,
 "nbformat_minor": 2
}
